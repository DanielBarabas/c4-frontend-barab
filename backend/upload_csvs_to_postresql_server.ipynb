{
 "cells": [
  {
   "cell_type": "code",
   "execution_count": 1,
   "metadata": {},
   "outputs": [],
   "source": [
    "import psycopg2\n",
    "from config import load_config\n",
    "import pandas as pd\n",
    "import psycopg2.extras"
   ]
  },
  {
   "cell_type": "code",
   "execution_count": 2,
   "metadata": {},
   "outputs": [],
   "source": [
    "DATA_DIR = \"C:/Projects/Rajk/prog_2/fourth_hw/c4-frontend-barab/data\""
   ]
  },
  {
   "cell_type": "code",
   "execution_count": 3,
   "metadata": {},
   "outputs": [
    {
     "data": {
      "text/plain": [
       "'C:/Projects/Rajk/prog_2/fourth_hw/c4-frontend-barab/data'"
      ]
     },
     "execution_count": 3,
     "metadata": {},
     "output_type": "execute_result"
    }
   ],
   "source": [
    "DATA_DIR"
   ]
  },
  {
   "cell_type": "code",
   "execution_count": 4,
   "metadata": {},
   "outputs": [],
   "source": [
    "config = load_config()"
   ]
  },
  {
   "cell_type": "code",
   "execution_count": 5,
   "metadata": {},
   "outputs": [
    {
     "name": "stdout",
     "output_type": "stream",
     "text": [
      "Connected to the PostgreSQL server.\n"
     ]
    }
   ],
   "source": [
    "with psycopg2.connect(**config) as conn:\n",
    "    print('Connected to the PostgreSQL server.')\n",
    "    "
   ]
  },
  {
   "cell_type": "markdown",
   "metadata": {},
   "source": [
    "## Parental guides"
   ]
  },
  {
   "cell_type": "code",
   "execution_count": 6,
   "metadata": {},
   "outputs": [],
   "source": [
    "data = pd.read_csv(\"{}/parental-guides.csv\".format(DATA_DIR))"
   ]
  },
  {
   "cell_type": "code",
   "execution_count": 7,
   "metadata": {},
   "outputs": [],
   "source": [
    "data[\"x\"] = data[\"x\"].str.replace(',','')\n",
    "data[\"y\"] = data[\"y\"].str.replace(',','')"
   ]
  },
  {
   "cell_type": "code",
   "execution_count": 8,
   "metadata": {},
   "outputs": [],
   "source": [
    "data = data.astype({\"x\":int})\n",
    "data = data.astype({\"y\":int})\n",
    "data = data.astype({\"cat\":str})"
   ]
  },
  {
   "cell_type": "code",
   "execution_count": 9,
   "metadata": {},
   "outputs": [
    {
     "data": {
      "text/html": [
       "<div>\n",
       "<style scoped>\n",
       "    .dataframe tbody tr th:only-of-type {\n",
       "        vertical-align: middle;\n",
       "    }\n",
       "\n",
       "    .dataframe tbody tr th {\n",
       "        vertical-align: top;\n",
       "    }\n",
       "\n",
       "    .dataframe thead th {\n",
       "        text-align: right;\n",
       "    }\n",
       "</style>\n",
       "<table border=\"1\" class=\"dataframe\">\n",
       "  <thead>\n",
       "    <tr style=\"text-align: right;\">\n",
       "      <th></th>\n",
       "      <th>t</th>\n",
       "      <th>cat</th>\n",
       "      <th>level</th>\n",
       "      <th>x</th>\n",
       "      <th>y</th>\n",
       "      <th>n</th>\n",
       "    </tr>\n",
       "  </thead>\n",
       "  <tbody>\n",
       "    <tr>\n",
       "      <th>0</th>\n",
       "      <td>tt0944947</td>\n",
       "      <td>Sex &amp; Nudity</td>\n",
       "      <td>Severe</td>\n",
       "      <td>7645</td>\n",
       "      <td>8721</td>\n",
       "      <td>7645</td>\n",
       "    </tr>\n",
       "    <tr>\n",
       "      <th>1</th>\n",
       "      <td>tt0944947</td>\n",
       "      <td>Violence &amp; Gore</td>\n",
       "      <td>Severe</td>\n",
       "      <td>4106</td>\n",
       "      <td>4471</td>\n",
       "      <td>4106</td>\n",
       "    </tr>\n",
       "    <tr>\n",
       "      <th>2</th>\n",
       "      <td>tt0944947</td>\n",
       "      <td>Profanity</td>\n",
       "      <td>Severe</td>\n",
       "      <td>3459</td>\n",
       "      <td>4128</td>\n",
       "      <td>3459</td>\n",
       "    </tr>\n",
       "    <tr>\n",
       "      <th>3</th>\n",
       "      <td>tt0944947</td>\n",
       "      <td>Alcohol, Drugs &amp; Smoking</td>\n",
       "      <td>Moderate</td>\n",
       "      <td>1769</td>\n",
       "      <td>4708</td>\n",
       "      <td>1769</td>\n",
       "    </tr>\n",
       "    <tr>\n",
       "      <th>4</th>\n",
       "      <td>tt0944947</td>\n",
       "      <td>Frightening &amp; Intense Scenes</td>\n",
       "      <td>Severe</td>\n",
       "      <td>3163</td>\n",
       "      <td>3889</td>\n",
       "      <td>3163</td>\n",
       "    </tr>\n",
       "  </tbody>\n",
       "</table>\n",
       "</div>"
      ],
      "text/plain": [
       "           t                           cat     level     x     y     n\n",
       "0  tt0944947                  Sex & Nudity    Severe  7645  8721  7645\n",
       "1  tt0944947               Violence & Gore    Severe  4106  4471  4106\n",
       "2  tt0944947                     Profanity    Severe  3459  4128  3459\n",
       "3  tt0944947      Alcohol, Drugs & Smoking  Moderate  1769  4708  1769\n",
       "4  tt0944947  Frightening & Intense Scenes    Severe  3163  3889  3163"
      ]
     },
     "execution_count": 9,
     "metadata": {},
     "output_type": "execute_result"
    }
   ],
   "source": [
    "data.head()"
   ]
  },
  {
   "cell_type": "code",
   "execution_count": 10,
   "metadata": {},
   "outputs": [],
   "source": [
    "sql = '''CREATE TABLE parentalguides ( \n",
    "t char(20) ,cat char(30),level char(20),x int, y int, n int);'''\n",
    "delete_sql = '''DROP TABLE parentalguides'''"
   ]
  },
  {
   "cell_type": "code",
   "execution_count": 11,
   "metadata": {},
   "outputs": [],
   "source": [
    "conn = psycopg2.connect(**config)\n",
    "cursor = conn.cursor()\n",
    "cursor.execute(delete_sql)\n",
    "cursor.execute(sql)\n",
    "conn.commit()\n",
    "conn.close()"
   ]
  },
  {
   "cell_type": "code",
   "execution_count": 12,
   "metadata": {},
   "outputs": [
    {
     "data": {
      "text/plain": [
       "t        object\n",
       "cat      object\n",
       "level    object\n",
       "x         int32\n",
       "y         int32\n",
       "n         int64\n",
       "dtype: object"
      ]
     },
     "execution_count": 12,
     "metadata": {},
     "output_type": "execute_result"
    }
   ],
   "source": [
    "data.dtypes"
   ]
  },
  {
   "cell_type": "code",
   "execution_count": 13,
   "metadata": {},
   "outputs": [],
   "source": [
    "conn = psycopg2.connect(**config)\n",
    "df_columns = list(data)\n",
    "# create (col1,col2,...)\n",
    "columns = \",\".join(df_columns)\n",
    "\n",
    "# create VALUES('%s', '%s\",...) one '%s' per column\n",
    "values = \"VALUES({})\".format(\",\".join([\"%s\" for _ in df_columns])) \n",
    "\n",
    "#create INSERT INTO table (columns) VALUES('%s',...)\n",
    "insert_stmt = \"INSERT INTO {} ({}) {}\".format(\"parentalguides\",columns,values)\n",
    "\n",
    "cur = conn.cursor()\n",
    "psycopg2.extras.execute_batch(cur, insert_stmt, data.values)\n",
    "conn.commit()\n",
    "cur.close()"
   ]
  },
  {
   "cell_type": "markdown",
   "metadata": {},
   "source": [
    "## Series data"
   ]
  },
  {
   "cell_type": "code",
   "execution_count": 22,
   "metadata": {},
   "outputs": [],
   "source": [
    "data = pd.read_csv(\"{}/series.csv\".format(DATA_DIR))"
   ]
  },
  {
   "cell_type": "code",
   "execution_count": 23,
   "metadata": {},
   "outputs": [
    {
     "data": {
      "text/html": [
       "<div>\n",
       "<style scoped>\n",
       "    .dataframe tbody tr th:only-of-type {\n",
       "        vertical-align: middle;\n",
       "    }\n",
       "\n",
       "    .dataframe tbody tr th {\n",
       "        vertical-align: top;\n",
       "    }\n",
       "\n",
       "    .dataframe thead th {\n",
       "        text-align: right;\n",
       "    }\n",
       "</style>\n",
       "<table border=\"1\" class=\"dataframe\">\n",
       "  <thead>\n",
       "    <tr style=\"text-align: right;\">\n",
       "      <th></th>\n",
       "      <th>t</th>\n",
       "      <th>title</th>\n",
       "      <th>rating</th>\n",
       "      <th>vote_num</th>\n",
       "    </tr>\n",
       "  </thead>\n",
       "  <tbody>\n",
       "    <tr>\n",
       "      <th>0</th>\n",
       "      <td>tt0944947</td>\n",
       "      <td>Game of Thrones</td>\n",
       "      <td>9.2</td>\n",
       "      <td>2278227</td>\n",
       "    </tr>\n",
       "    <tr>\n",
       "      <th>1</th>\n",
       "      <td>tt8772296</td>\n",
       "      <td>Euphoria</td>\n",
       "      <td>8.3</td>\n",
       "      <td>240171</td>\n",
       "    </tr>\n",
       "    <tr>\n",
       "      <th>2</th>\n",
       "      <td>tt7767422</td>\n",
       "      <td>Sex Education</td>\n",
       "      <td>8.3</td>\n",
       "      <td>350179</td>\n",
       "    </tr>\n",
       "    <tr>\n",
       "      <th>3</th>\n",
       "      <td>tt1190634</td>\n",
       "      <td>The Boys</td>\n",
       "      <td>8.7</td>\n",
       "      <td>646277</td>\n",
       "    </tr>\n",
       "    <tr>\n",
       "      <th>4</th>\n",
       "      <td>tt5180504</td>\n",
       "      <td>The Witcher</td>\n",
       "      <td>8.0</td>\n",
       "      <td>568491</td>\n",
       "    </tr>\n",
       "  </tbody>\n",
       "</table>\n",
       "</div>"
      ],
      "text/plain": [
       "           t            title  rating  vote_num\n",
       "0  tt0944947  Game of Thrones     9.2   2278227\n",
       "1  tt8772296         Euphoria     8.3    240171\n",
       "2  tt7767422    Sex Education     8.3    350179\n",
       "3  tt1190634         The Boys     8.7    646277\n",
       "4  tt5180504      The Witcher     8.0    568491"
      ]
     },
     "execution_count": 23,
     "metadata": {},
     "output_type": "execute_result"
    }
   ],
   "source": [
    "data.head()"
   ]
  },
  {
   "cell_type": "code",
   "execution_count": 15,
   "metadata": {},
   "outputs": [],
   "source": [
    "sql = '''CREATE TABLE series ( \n",
    "t char(20) ,title char(50),rating float(5),vote_num int);'''\n",
    "delete_sql = '''DROP TABLE series'''"
   ]
  },
  {
   "cell_type": "code",
   "execution_count": 16,
   "metadata": {},
   "outputs": [],
   "source": [
    "conn = psycopg2.connect(**config)\n",
    "cursor = conn.cursor()\n",
    "cursor.execute(delete_sql)\n",
    "cursor.execute(sql)\n",
    "conn.commit()\n",
    "conn.close()"
   ]
  },
  {
   "cell_type": "code",
   "execution_count": 17,
   "metadata": {},
   "outputs": [],
   "source": [
    "conn = psycopg2.connect(**config)\n",
    "df_columns = list(data)\n",
    "# create (col1,col2,...)\n",
    "columns = \",\".join(df_columns)\n",
    "\n",
    "# create VALUES('%s', '%s\",...) one '%s' per column\n",
    "values = \"VALUES({})\".format(\",\".join([\"%s\" for _ in df_columns])) \n",
    "\n",
    "#create INSERT INTO table (columns) VALUES('%s',...)\n",
    "insert_stmt = \"INSERT INTO {} ({}) {}\".format(\"series\",columns,values)\n",
    "\n",
    "cur = conn.cursor()\n",
    "psycopg2.extras.execute_batch(cur, insert_stmt, data.values)\n",
    "conn.commit()\n",
    "cur.close()"
   ]
  },
  {
   "cell_type": "markdown",
   "metadata": {},
   "source": [
    "## Set up keys and connections"
   ]
  },
  {
   "cell_type": "code",
   "execution_count": 18,
   "metadata": {},
   "outputs": [],
   "source": [
    "sql = '''ALTER TABLE series \n",
    "ADD PRIMARY KEY (t)'''"
   ]
  },
  {
   "cell_type": "code",
   "execution_count": 19,
   "metadata": {},
   "outputs": [],
   "source": [
    "conn = psycopg2.connect(**config)\n",
    "cursor = conn.cursor()\n",
    "cursor.execute(sql)\n",
    "conn.commit()\n",
    "conn.close()\n"
   ]
  },
  {
   "cell_type": "code",
   "execution_count": 26,
   "metadata": {},
   "outputs": [],
   "source": [
    "sql = '''ALTER TABLE parentalguides \n",
    "ADD FOREIGN KEY (t) REFERENCES series(t)'''"
   ]
  },
  {
   "cell_type": "code",
   "execution_count": 27,
   "metadata": {},
   "outputs": [
    {
     "data": {
      "text/plain": [
       "'ALTER TABLE parentalguides \\nADD FOREIGN KEY (t) REFERENCES series(t)'"
      ]
     },
     "execution_count": 27,
     "metadata": {},
     "output_type": "execute_result"
    }
   ],
   "source": [
    "sql"
   ]
  },
  {
   "cell_type": "code",
   "execution_count": 21,
   "metadata": {},
   "outputs": [],
   "source": [
    "conn = psycopg2.connect(**config)\n",
    "cursor = conn.cursor()\n",
    "cursor.execute(sql)\n",
    "conn.commit()\n",
    "conn.close()"
   ]
  },
  {
   "cell_type": "markdown",
   "metadata": {},
   "source": [
    "## Basic query (find the series that satisfy the conditions)"
   ]
  },
  {
   "cell_type": "code",
   "execution_count": 60,
   "metadata": {},
   "outputs": [],
   "source": [
    "inputs = [\"'Sex & Nudity'\",\"'Severe'\",\"'Violence & Gore'\",\"'Severe'\"]\n",
    "sql = ''' \n",
    "select s.t, s.title\n",
    "from series s\n",
    "join parentalguides pg on s.t = pg.t\n",
    "where (cat = {} and level = {})\n",
    "or (cat = {} and level = {})\n",
    "group by s.t, s.title\n",
    "having count(distinct cat) = 2\n",
    "'''.format(*inputs)"
   ]
  },
  {
   "cell_type": "code",
   "execution_count": 61,
   "metadata": {},
   "outputs": [
    {
     "name": "stdout",
     "output_type": "stream",
     "text": [
      "Oz                                                \n",
      "South Park                                        \n",
      "The Sopranos                                      \n",
      "Berserk                                           \n",
      "Deadwood                                          \n",
      "Nip/Tuck                                          \n",
      "Rome                                              \n",
      "Brotherhood                                       \n",
      "Westworld                                         \n",
      "The Tudors                                        \n",
      "True Blood                                        \n",
      "Game of Thrones                                   \n",
      "Boardwalk Empire                                  \n",
      "Underbelly                                        \n",
      "House of the Dragon                               \n",
      "Mayor of Kingstown                                \n",
      "Power Book III: Raising Kanan                     \n",
      "Power Book IV: Force                              \n",
      "The Boys                                          \n",
      "Peacemaker                                        \n",
      "Blue Eye Samurai                                  \n",
      "Spartacus                                         \n",
      "Strike Back                                       \n",
      "The Borgias                                       \n",
      "Borgia                                            \n",
      "Spartacus: Gods of the Arena                      \n",
      "1923                                              \n",
      "American Horror Story                             \n",
      "American Gods                                     \n",
      "Banshee                                           \n",
      "Black Mirror                                      \n",
      "Da Vinci's Demons                                 \n",
      "Marco Polo                                        \n",
      "The Eric Andre Show                               \n",
      "Ray Donovan                                       \n",
      "Altered Carbon                                    \n",
      "Vikings                                           \n",
      "True Detective                                    \n",
      "Black Sails                                       \n",
      "Peaky Blinders                                    \n",
      "The Returned                                      \n",
      "Penny Dreadful                                    \n",
      "The Leftovers                                     \n",
      "Narcos                                            \n",
      "Outlander                                         \n",
      "Power                                             \n",
      "Kingdom                                           \n",
      "Versailles                                        \n",
      "F Is for Family                                   \n",
      "Vis a vis                                         \n",
      "The Witcher                                       \n",
      "Mindhunter                                        \n",
      "Warrior                                           \n",
      "The Handmaid's Tale                               \n",
      "Black Sun                                         \n",
      "Narcos: Mexico                                    \n",
      "Love, Death & Robots                              \n",
      "Exit                                              \n"
     ]
    }
   ],
   "source": [
    "conn = psycopg2.connect(**config)\n",
    "cursor = conn.cursor()\n",
    "cursor.execute(sql)\n",
    "rows = cursor.fetchall()\n",
    "for row in rows:\n",
    "    print(row[1])\n",
    "conn.commit()\n",
    "conn.close()"
   ]
  },
  {
   "cell_type": "code",
   "execution_count": 62,
   "metadata": {},
   "outputs": [
    {
     "data": {
      "text/plain": [
       "58"
      ]
     },
     "execution_count": 62,
     "metadata": {},
     "output_type": "execute_result"
    }
   ],
   "source": [
    "len(rows)"
   ]
  },
  {
   "cell_type": "code",
   "execution_count": null,
   "metadata": {},
   "outputs": [],
   "source": []
  }
 ],
 "metadata": {
  "kernelspec": {
   "display_name": "Python 3",
   "language": "python",
   "name": "python3"
  },
  "language_info": {
   "codemirror_mode": {
    "name": "ipython",
    "version": 3
   },
   "file_extension": ".py",
   "mimetype": "text/x-python",
   "name": "python",
   "nbconvert_exporter": "python",
   "pygments_lexer": "ipython3",
   "version": "3.11.5"
  }
 },
 "nbformat": 4,
 "nbformat_minor": 2
}
